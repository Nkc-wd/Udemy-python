{
  "nbformat": 4,
  "nbformat_minor": 0,
  "metadata": {
    "colab": {
      "name": "Error and exception.ipynb",
      "provenance": [],
      "authorship_tag": "ABX9TyNXYtXZXQB5MQ1m5c3oZzlv"
    },
    "kernelspec": {
      "name": "python3",
      "display_name": "Python 3"
    }
  },
  "cells": [
    {
      "cell_type": "code",
      "metadata": {
        "id": "WGN6kpoERq1L",
        "colab_type": "code",
        "colab": {}
      },
      "source": [
        "def askint():\n",
        "    while True:\n",
        "        try:\n",
        "            val = int(input(\"Please enter an integer: \"))\n",
        "        except:\n",
        "            print(\"Looks like you did not enter an integer!\")\n",
        "            continue\n",
        "        else:\n",
        "            print(\"Yep that's an integer!\")\n",
        "            print(val)\n",
        "            break"
      ],
      "execution_count": 0,
      "outputs": []
    },
    {
      "cell_type": "code",
      "metadata": {
        "id": "RZK_G0QffeR6",
        "colab_type": "code",
        "colab": {}
      },
      "source": [
        ""
      ],
      "execution_count": 0,
      "outputs": []
    },
    {
      "cell_type": "markdown",
      "metadata": {
        "id": "yEpYxWSfpCfD",
        "colab_type": "text"
      },
      "source": [
        "Exception Handling library:\n",
        "\n",
        "Pylint and Unittest\n",
        "TO install pip (package to install library)\n",
        "\n",
        "First go to the pip website download get-pip.py\n",
        "saved into user cmd folder\n",
        "\n",
        "then in cmd `python get-pip.py ` to install pip '\n",
        "\n",
        "wait for several minute to download and install this \n",
        "on sucessfully install write in cmd write\n",
        "\n",
        " `pip install pylint`\n",
        "\n",
        "To install pylint library\n",
        "\n",
        "Now run .py file with pylint to check errors\n"
      ]
    },
    {
      "cell_type": "code",
      "metadata": {
        "id": "1kZ71sk0qtDO",
        "colab_type": "code",
        "colab": {}
      },
      "source": [
        ""
      ],
      "execution_count": 0,
      "outputs": []
    }
  ]
}