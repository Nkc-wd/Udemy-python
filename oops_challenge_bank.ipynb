{
  "nbformat": 4,
  "nbformat_minor": 0,
  "metadata": {
    "colab": {
      "name": "oops_challenge_bank.ipynb",
      "provenance": [],
      "authorship_tag": "ABX9TyMe7MCnDJmp6fUfA4n/sqKl",
      "include_colab_link": true
    },
    "kernelspec": {
      "name": "python3",
      "display_name": "Python 3"
    }
  },
  "cells": [
    {
      "cell_type": "markdown",
      "metadata": {
        "id": "view-in-github",
        "colab_type": "text"
      },
      "source": [
        "<a href=\"https://colab.research.google.com/github/Nkc-wd/Udemy-python/blob/master/oops_challenge_bank.ipynb\" target=\"_parent\"><img src=\"https://colab.research.google.com/assets/colab-badge.svg\" alt=\"Open In Colab\"/></a>"
      ]
    },
    {
      "cell_type": "code",
      "metadata": {
        "id": "KulcIVzHag3Q",
        "colab_type": "code",
        "colab": {}
      },
      "source": [
        "class Account:\n",
        "\n",
        "  def __init__(self,owner,balance):\n",
        "    self.owner=owner\n",
        "    self.balance=balance\n",
        "\n",
        "  def __str__(self):        #Use format to print as f'{print_value},{print_value}'\n",
        "    return f'{self.owner},{self.balance}' \n",
        "\n",
        "  def deposit(self,money):\n",
        "    if money>0:\n",
        "      self.balance+=money\n",
        "      print(\"Deposit excepted\")\n",
        "    else:\n",
        "      print(\"Deposit valid amount\")\n",
        "  def withdraw(self,money):\n",
        "    if money<=self.balance:\n",
        "      self.balance-=money\n",
        "      print(\"Withdrawal accepted\")\n",
        "    else:\n",
        "      print(\"Funds Unavailable!\")  \n",
        "\n",
        "      "
      ],
      "execution_count": 0,
      "outputs": []
    },
    {
      "cell_type": "code",
      "metadata": {
        "id": "B7FHftpdaiq-",
        "colab_type": "code",
        "colab": {}
      },
      "source": [
        "acct1 = Account('Jose',100)"
      ],
      "execution_count": 0,
      "outputs": []
    },
    {
      "cell_type": "code",
      "metadata": {
        "id": "N_gG5Z2ja7R_",
        "colab_type": "code",
        "colab": {
          "base_uri": "https://localhost:8080/",
          "height": 34
        },
        "outputId": "347c8f59-c273-45fc-9f62-bb573e4adea1"
      },
      "source": [
        "print(acct1)"
      ],
      "execution_count": 7,
      "outputs": [
        {
          "output_type": "stream",
          "text": [
            "Jose,100\n"
          ],
          "name": "stdout"
        }
      ]
    },
    {
      "cell_type": "code",
      "metadata": {
        "id": "0PqeG8-va-Fv",
        "colab_type": "code",
        "colab": {
          "base_uri": "https://localhost:8080/",
          "height": 34
        },
        "outputId": "794c418e-03c1-448f-fb0f-6eb5fa8dd3ab"
      },
      "source": [
        "acct1.balance"
      ],
      "execution_count": 8,
      "outputs": [
        {
          "output_type": "execute_result",
          "data": {
            "text/plain": [
              "100"
            ]
          },
          "metadata": {
            "tags": []
          },
          "execution_count": 8
        }
      ]
    },
    {
      "cell_type": "code",
      "metadata": {
        "id": "xxdGYKfhbAq5",
        "colab_type": "code",
        "colab": {
          "base_uri": "https://localhost:8080/",
          "height": 34
        },
        "outputId": "651f1233-dec7-4f4e-d76a-bf560bb55b77"
      },
      "source": [
        "acct1.deposit(50)"
      ],
      "execution_count": 9,
      "outputs": [
        {
          "output_type": "stream",
          "text": [
            "Deposit excepted\n"
          ],
          "name": "stdout"
        }
      ]
    },
    {
      "cell_type": "code",
      "metadata": {
        "id": "p-mF8fVVbDNv",
        "colab_type": "code",
        "colab": {
          "base_uri": "https://localhost:8080/",
          "height": 34
        },
        "outputId": "53766608-1180-46e7-d1f1-55a880ce0af3"
      },
      "source": [
        "acct1.withdraw(75)"
      ],
      "execution_count": 10,
      "outputs": [
        {
          "output_type": "stream",
          "text": [
            "Withdrawal accepted\n"
          ],
          "name": "stdout"
        }
      ]
    },
    {
      "cell_type": "code",
      "metadata": {
        "id": "4EYsd3kbbHSo",
        "colab_type": "code",
        "colab": {
          "base_uri": "https://localhost:8080/",
          "height": 34
        },
        "outputId": "3535f0a6-828d-4750-c95e-c6d50562f262"
      },
      "source": [
        "acct1.withdraw(500)"
      ],
      "execution_count": 11,
      "outputs": [
        {
          "output_type": "stream",
          "text": [
            "Funds Unavailable!\n"
          ],
          "name": "stdout"
        }
      ]
    },
    {
      "cell_type": "code",
      "metadata": {
        "id": "rGMdfZyLbJuB",
        "colab_type": "code",
        "colab": {}
      },
      "source": [
        ""
      ],
      "execution_count": 0,
      "outputs": []
    }
  ]
}