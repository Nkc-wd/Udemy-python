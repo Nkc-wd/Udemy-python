{
  "nbformat": 4,
  "nbformat_minor": 0,
  "metadata": {
    "colab": {
      "name": "tower_of_honoi.ipynb",
      "provenance": [],
      "collapsed_sections": [],
      "authorship_tag": "ABX9TyPtEgbGidVVz63GsI2mTCp5"
    },
    "kernelspec": {
      "name": "python3",
      "display_name": "Python 3"
    }
  },
  "cells": [
    {
      "cell_type": "code",
      "metadata": {
        "id": "DfHg5OFn62om",
        "colab_type": "code",
        "colab": {}
      },
      "source": [
        "count=0;\n",
        "def tofh(n,frm,to,aux):\n",
        "  global count\n",
        "  if n==1:\n",
        "    print(\"Move disk 1 from rod\",frm,\"to rod\",to)\n",
        "    count+=1\n",
        "    return\n",
        "  \n",
        "\n",
        "  tofh(n-1,frm,aux,to)\n",
        "  print(\"Move disk\",n,\"from rod\",frm,\"to rod\",to)\n",
        "  count+=1\n",
        "  tofh(n-1,aux,to,frm)\n",
        "  \n",
        "while True:\n",
        "    try:\n",
        "        disk=int(input(\"Please enter the number of disks\\n\"))\n",
        "        tofh(disk,'A','B','C')\n",
        "        print(\"The Total number of Process is:\",count)\n",
        "    except:\n",
        "        print(\"Error\",\"Please enter valid disk number\")\n",
        "        continue\n",
        "    else:\n",
        "        print(\"Thank You! the number of processes Here\")\n",
        "        break"
      ],
      "execution_count": 0,
      "outputs": []
    }
  ]
}