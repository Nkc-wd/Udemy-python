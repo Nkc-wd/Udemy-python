{
  "nbformat": 4,
  "nbformat_minor": 0,
  "metadata": {
    "colab": {
      "name": "Counter_Module.ipynb",
      "provenance": [],
      "authorship_tag": "ABX9TyMveYDr+U5/xF1pMjgUglse"
    },
    "kernelspec": {
      "name": "python3",
      "display_name": "Python 3"
    }
  },
  "cells": [
    {
      "cell_type": "code",
      "metadata": {
        "id": "l_2kW0e_u-FP",
        "colab_type": "code",
        "colab": {}
      },
      "source": [
        "from collections import Counter"
      ],
      "execution_count": 0,
      "outputs": []
    },
    {
      "cell_type": "code",
      "metadata": {
        "id": "hU80WwR4Ktbj",
        "colab_type": "code",
        "colab": {
          "base_uri": "https://localhost:8080/",
          "height": 34
        },
        "outputId": "9eb5744f-6ccc-4ee3-aff2-3e8fe19bd461"
      },
      "source": [
        "lst = [1,2,2,2,2,3,3,3,1,2,1,12,3,2,32,1,21,1,223,1]\n",
        "\n",
        "Counter(lst)"
      ],
      "execution_count": 5,
      "outputs": [
        {
          "output_type": "execute_result",
          "data": {
            "text/plain": [
              "Counter({1: 6, 2: 6, 3: 4, 12: 1, 21: 1, 32: 1, 223: 1})"
            ]
          },
          "metadata": {
            "tags": []
          },
          "execution_count": 5
        }
      ]
    },
    {
      "cell_type": "code",
      "metadata": {
        "id": "nl6ftZTFM0My",
        "colab_type": "code",
        "colab": {
          "base_uri": "https://localhost:8080/",
          "height": 204
        },
        "outputId": "c075cb32-aaa0-4114-f813-690f191da072"
      },
      "source": [
        "s = 'How many times does each word show up in this sentence word times each each word'\n",
        "\n",
        "words = s.split()\n",
        "\n",
        "Counter(words)"
      ],
      "execution_count": 9,
      "outputs": [
        {
          "output_type": "execute_result",
          "data": {
            "text/plain": [
              "Counter({'How': 1,\n",
              "         'does': 1,\n",
              "         'each': 3,\n",
              "         'in': 1,\n",
              "         'many': 1,\n",
              "         'sentence': 1,\n",
              "         'show': 1,\n",
              "         'this': 1,\n",
              "         'times': 2,\n",
              "         'up': 1,\n",
              "         'word': 3})"
            ]
          },
          "metadata": {
            "tags": []
          },
          "execution_count": 9
        }
      ]
    },
    {
      "cell_type": "code",
      "metadata": {
        "id": "hUvktuW_No2v",
        "colab_type": "code",
        "colab": {
          "base_uri": "https://localhost:8080/",
          "height": 34
        },
        "outputId": "405f0b9b-2178-4116-d4c2-fbca7bdca72d"
      },
      "source": [
        "c = Counter(words)\n",
        "\n",
        "c.most_common(4)"
      ],
      "execution_count": 11,
      "outputs": [
        {
          "output_type": "execute_result",
          "data": {
            "text/plain": [
              "[('each', 3), ('word', 3), ('times', 2), ('How', 1)]"
            ]
          },
          "metadata": {
            "tags": []
          },
          "execution_count": 11
        }
      ]
    },
    {
      "cell_type": "code",
      "metadata": {
        "id": "0ZZpNTbbOoGF",
        "colab_type": "code",
        "colab": {
          "base_uri": "https://localhost:8080/",
          "height": 204
        },
        "outputId": "556e0676-23e6-4eb5-8c9e-e2f9531ee204"
      },
      "source": [
        "list(c)\n"
      ],
      "execution_count": 12,
      "outputs": [
        {
          "output_type": "execute_result",
          "data": {
            "text/plain": [
              "['How',\n",
              " 'many',\n",
              " 'times',\n",
              " 'does',\n",
              " 'each',\n",
              " 'word',\n",
              " 'show',\n",
              " 'up',\n",
              " 'in',\n",
              " 'this',\n",
              " 'sentence']"
            ]
          },
          "metadata": {
            "tags": []
          },
          "execution_count": 12
        }
      ]
    },
    {
      "cell_type": "code",
      "metadata": {
        "id": "_eL2697nPXaA",
        "colab_type": "code",
        "colab": {
          "base_uri": "https://localhost:8080/",
          "height": 204
        },
        "outputId": "89f7d12d-bb19-4334-d36d-b382c3bd6e1d"
      },
      "source": [
        "set(c)\n"
      ],
      "execution_count": 13,
      "outputs": [
        {
          "output_type": "execute_result",
          "data": {
            "text/plain": [
              "{'How',\n",
              " 'does',\n",
              " 'each',\n",
              " 'in',\n",
              " 'many',\n",
              " 'sentence',\n",
              " 'show',\n",
              " 'this',\n",
              " 'times',\n",
              " 'up',\n",
              " 'word'}"
            ]
          },
          "metadata": {
            "tags": []
          },
          "execution_count": 13
        }
      ]
    },
    {
      "cell_type": "code",
      "metadata": {
        "id": "fufXjon8PdBF",
        "colab_type": "code",
        "colab": {
          "base_uri": "https://localhost:8080/",
          "height": 204
        },
        "outputId": "f59d3db7-22cb-416d-91f1-9ad3b9eef247"
      },
      "source": [
        "dict(c)\n"
      ],
      "execution_count": 14,
      "outputs": [
        {
          "output_type": "execute_result",
          "data": {
            "text/plain": [
              "{'How': 1,\n",
              " 'does': 1,\n",
              " 'each': 3,\n",
              " 'in': 1,\n",
              " 'many': 1,\n",
              " 'sentence': 1,\n",
              " 'show': 1,\n",
              " 'this': 1,\n",
              " 'times': 2,\n",
              " 'up': 1,\n",
              " 'word': 3}"
            ]
          },
          "metadata": {
            "tags": []
          },
          "execution_count": 14
        }
      ]
    },
    {
      "cell_type": "code",
      "metadata": {
        "id": "JfmV0w2ZPf4M",
        "colab_type": "code",
        "colab": {
          "base_uri": "https://localhost:8080/",
          "height": 34
        },
        "outputId": "3311b1bc-9354-4d59-9da3-8d85a4e08cde"
      },
      "source": [
        "c.items()"
      ],
      "execution_count": 15,
      "outputs": [
        {
          "output_type": "execute_result",
          "data": {
            "text/plain": [
              "dict_items([('How', 1), ('many', 1), ('times', 2), ('does', 1), ('each', 3), ('word', 3), ('show', 1), ('up', 1), ('in', 1), ('this', 1), ('sentence', 1)])"
            ]
          },
          "metadata": {
            "tags": []
          },
          "execution_count": 15
        }
      ]
    },
    {
      "cell_type": "code",
      "metadata": {
        "id": "pnQRNF4TPop5",
        "colab_type": "code",
        "colab": {}
      },
      "source": [
        ""
      ],
      "execution_count": 0,
      "outputs": []
    }
  ]
}