{
  "nbformat": 4,
  "nbformat_minor": 0,
  "metadata": {
    "colab": {
      "name": "Regular_expression_re_library.ipynb",
      "provenance": [],
      "authorship_tag": "ABX9TyMyEiKa63I4bv1eP/L00N9k"
    },
    "kernelspec": {
      "name": "python3",
      "display_name": "Python 3"
    }
  },
  "cells": [
    {
      "cell_type": "code",
      "metadata": {
        "id": "qMVlqLkJdiC7",
        "colab_type": "code",
        "colab": {}
      },
      "source": [
        "import re"
      ],
      "execution_count": 0,
      "outputs": []
    },
    {
      "cell_type": "code",
      "metadata": {
        "id": "LVqP0mGldjbB",
        "colab_type": "code",
        "colab": {}
      },
      "source": [
        ""
      ],
      "execution_count": 0,
      "outputs": []
    },
    {
      "cell_type": "markdown",
      "metadata": {
        "id": "qmeny4XRdm7h",
        "colab_type": "text"
      },
      "source": [
        "for search a certain text in string\n",
        "\n",
        "re.search(what to be search,what in search)"
      ]
    },
    {
      "cell_type": "code",
      "metadata": {
        "id": "MOha_7pGdtnG",
        "colab_type": "code",
        "colab": {
          "base_uri": "https://localhost:8080/",
          "height": 34
        },
        "outputId": "45a5ac91-6c93-4308-e74f-73d665393cf4"
      },
      "source": [
        "re.search(\"term1\",\"i am the number term1\")"
      ],
      "execution_count": 17,
      "outputs": [
        {
          "output_type": "execute_result",
          "data": {
            "text/plain": [
              "<_sre.SRE_Match object; span=(16, 21), match='term1'>"
            ]
          },
          "metadata": {
            "tags": []
          },
          "execution_count": 17
        }
      ]
    },
    {
      "cell_type": "code",
      "metadata": {
        "id": "8zI3DZF0eEob",
        "colab_type": "code",
        "colab": {
          "base_uri": "https://localhost:8080/",
          "height": 34
        },
        "outputId": "6ed7ab4c-4297-4e84-dd86-1c5651ff0fdb"
      },
      "source": [
        "match=re.search(\"term1\",\"i am the number term1\")\n",
        "print(match)"
      ],
      "execution_count": 20,
      "outputs": [
        {
          "output_type": "stream",
          "text": [
            "<_sre.SRE_Match object; span=(16, 21), match='term1'>\n"
          ],
          "name": "stdout"
        }
      ]
    },
    {
      "cell_type": "code",
      "metadata": {
        "id": "tWaGeB0jeKM4",
        "colab_type": "code",
        "colab": {
          "base_uri": "https://localhost:8080/",
          "height": 34
        },
        "outputId": "7be36fca-aeec-41ee-9610-7a02dcd47599"
      },
      "source": [
        "# Show start of match\n",
        "match.start()"
      ],
      "execution_count": 21,
      "outputs": [
        {
          "output_type": "execute_result",
          "data": {
            "text/plain": [
              "16"
            ]
          },
          "metadata": {
            "tags": []
          },
          "execution_count": 21
        }
      ]
    },
    {
      "cell_type": "code",
      "metadata": {
        "id": "QmxTo__DebvE",
        "colab_type": "code",
        "colab": {
          "base_uri": "https://localhost:8080/",
          "height": 34
        },
        "outputId": "b88c5f91-724a-4de8-8a74-fa4aa16454fc"
      },
      "source": [
        "# Show end\n",
        "match.end()"
      ],
      "execution_count": 22,
      "outputs": [
        {
          "output_type": "execute_result",
          "data": {
            "text/plain": [
              "21"
            ]
          },
          "metadata": {
            "tags": []
          },
          "execution_count": 22
        }
      ]
    },
    {
      "cell_type": "code",
      "metadata": {
        "id": "yv4gSwh5eeXQ",
        "colab_type": "code",
        "colab": {}
      },
      "source": [
        ""
      ],
      "execution_count": 0,
      "outputs": []
    },
    {
      "cell_type": "markdown",
      "metadata": {
        "id": "elHroOdjeiiZ",
        "colab_type": "text"
      },
      "source": [
        "If we have list items to be search then use\n",
        "\n",
        " [index]"
      ]
    },
    {
      "cell_type": "code",
      "metadata": {
        "id": "LAbWhLkseqhj",
        "colab_type": "code",
        "colab": {
          "base_uri": "https://localhost:8080/",
          "height": 51
        },
        "outputId": "537ad3df-fc67-45dc-dce1-c6992cf41fbe"
      },
      "source": [
        "# List of patterns to search for\n",
        "patterns = ['term1', 'term2']\n",
        "# Text to parse\n",
        "text = 'This is a string with term1, but it does not have the other term.'\n",
        "\n",
        "if re.search(pattern[0],text):\n",
        "        print('Match was found. \\n')"
      ],
      "execution_count": 23,
      "outputs": [
        {
          "output_type": "stream",
          "text": [
            "Match was found. \n",
            "\n"
          ],
          "name": "stdout"
        }
      ]
    },
    {
      "cell_type": "code",
      "metadata": {
        "id": "VtAS6Exze7oK",
        "colab_type": "code",
        "colab": {}
      },
      "source": [
        ""
      ],
      "execution_count": 0,
      "outputs": []
    },
    {
      "cell_type": "markdown",
      "metadata": {
        "id": "6ha_6n2IfChP",
        "colab_type": "text"
      },
      "source": [
        "Split with regular expressions\n",
        "\n",
        "Let's see how we can split with the re syntax. This should look similar to how you used the split() method with strings."
      ]
    },
    {
      "cell_type": "code",
      "metadata": {
        "id": "q1XxAiBpfE8m",
        "colab_type": "code",
        "colab": {}
      },
      "source": [
        ""
      ],
      "execution_count": 0,
      "outputs": []
    },
    {
      "cell_type": "markdown",
      "metadata": {
        "id": "nb1yh1wIfJBa",
        "colab_type": "text"
      },
      "source": [
        "Interview question how to find domain from gmail link"
      ]
    },
    {
      "cell_type": "code",
      "metadata": {
        "id": "THPvo0L5fO_D",
        "colab_type": "code",
        "colab": {
          "base_uri": "https://localhost:8080/",
          "height": 34
        },
        "outputId": "f2e52c94-0397-44d0-ce80-ae1d1df9e61d"
      },
      "source": [
        "# Term to split on\n",
        "split_term = '@'\n",
        "\n",
        "phrase = 'What is the domain name of someone with the email: hello@gmail.com'\n",
        "\n",
        "# Split the phrase\n",
        "re.split(split_term,phrase)"
      ],
      "execution_count": 24,
      "outputs": [
        {
          "output_type": "execute_result",
          "data": {
            "text/plain": [
              "['What is the domain name of someone with the email: hello', 'gmail.com']"
            ]
          },
          "metadata": {
            "tags": []
          },
          "execution_count": 24
        }
      ]
    },
    {
      "cell_type": "code",
      "metadata": {
        "id": "Q9PE2TdOfSL1",
        "colab_type": "code",
        "colab": {}
      },
      "source": [
        ""
      ],
      "execution_count": 0,
      "outputs": []
    },
    {
      "cell_type": "markdown",
      "metadata": {
        "id": "isBdx8g5fWn_",
        "colab_type": "text"
      },
      "source": [
        "Finding all instances of a pattern\n",
        "\n",
        "You can use re.findall() to find all the instances of a pattern in a string.\n",
        "\n",
        "For example:\n",
        "\n",
        "It is very useful to finding the match(important)"
      ]
    },
    {
      "cell_type": "code",
      "metadata": {
        "id": "RET1E2Ovffh4",
        "colab_type": "code",
        "colab": {
          "base_uri": "https://localhost:8080/",
          "height": 34
        },
        "outputId": "bfd609aa-04f8-490b-9a27-4d8da9d2ff01"
      },
      "source": [
        "# Returns a list of all matches\n",
        "re.findall('match','test phrase match is in middle')"
      ],
      "execution_count": 25,
      "outputs": [
        {
          "output_type": "execute_result",
          "data": {
            "text/plain": [
              "['match']"
            ]
          },
          "metadata": {
            "tags": []
          },
          "execution_count": 25
        }
      ]
    },
    {
      "cell_type": "code",
      "metadata": {
        "id": "lA9CQFKtfimR",
        "colab_type": "code",
        "colab": {}
      },
      "source": [
        ""
      ],
      "execution_count": 0,
      "outputs": []
    },
    {
      "cell_type": "markdown",
      "metadata": {
        "id": "bQfKW7YDfoUZ",
        "colab_type": "text"
      },
      "source": [
        "Character Ranges\n",
        "\n",
        "As character sets grow larger, typing every character that should (or should not) match could become very tedious. A more compact format using character ranges lets you define a character set to include all of the contiguous characters between a start and stop point. The format used is [start-end].\n",
        "\n",
        "Common use cases are to search for a specific range of letters in the alphabet. For instance, [a-f] would return matches with any occurrence of letters between a and f"
      ]
    },
    {
      "cell_type": "code",
      "metadata": {
        "id": "3S-vIElmfuPM",
        "colab_type": "code",
        "colab": {}
      },
      "source": [
        ""
      ],
      "execution_count": 0,
      "outputs": []
    },
    {
      "cell_type": "markdown",
      "metadata": {
        "id": "p4Y8RS6gfvaw",
        "colab_type": "text"
      },
      "source": [
        "It is very useful to find all lower or uppercase charcter as string from given text"
      ]
    },
    {
      "cell_type": "code",
      "metadata": {
        "id": "udksim1sf268",
        "colab_type": "code",
        "colab": {
          "base_uri": "https://localhost:8080/",
          "height": 238
        },
        "outputId": "bc844eb9-8bf2-4be1-a4c2-a5bde22bd356"
      },
      "source": [
        "test_phrase = 'This is an example sentence. Lets see if we can find some letters.'\n",
        "\n",
        "test_patterns=['[a-z]+',      # sequences of lower case letters\n",
        "               '[A-Z]+',      # sequences of upper case letters\n",
        "               '[a-zA-Z]+',   # sequences of lower or upper case letters\n",
        "               '[A-Z][a-z]+'] # one upper case letter followed by lower case letters\n",
        "                \n",
        "re.findall(test_patterns[0],test_phrase)"
      ],
      "execution_count": 26,
      "outputs": [
        {
          "output_type": "execute_result",
          "data": {
            "text/plain": [
              "['his',\n",
              " 'is',\n",
              " 'an',\n",
              " 'example',\n",
              " 'sentence',\n",
              " 'ets',\n",
              " 'see',\n",
              " 'if',\n",
              " 'we',\n",
              " 'can',\n",
              " 'find',\n",
              " 'some',\n",
              " 'letters']"
            ]
          },
          "metadata": {
            "tags": []
          },
          "execution_count": 26
        }
      ]
    },
    {
      "cell_type": "code",
      "metadata": {
        "id": "CjJWVp6zf_8c",
        "colab_type": "code",
        "colab": {
          "base_uri": "https://localhost:8080/",
          "height": 34
        },
        "outputId": "e44ab6be-c030-4992-9a45-da2af2767d56"
      },
      "source": [
        "re.findall(test_patterns[1],test_phrase)"
      ],
      "execution_count": 27,
      "outputs": [
        {
          "output_type": "execute_result",
          "data": {
            "text/plain": [
              "['T', 'L']"
            ]
          },
          "metadata": {
            "tags": []
          },
          "execution_count": 27
        }
      ]
    },
    {
      "cell_type": "code",
      "metadata": {
        "id": "0fORNhKzgFSg",
        "colab_type": "code",
        "colab": {
          "base_uri": "https://localhost:8080/",
          "height": 238
        },
        "outputId": "d914d19b-95e3-4999-9489-19de95dd14ed"
      },
      "source": [
        "re.findall(test_patterns[2],test_phrase)"
      ],
      "execution_count": 28,
      "outputs": [
        {
          "output_type": "execute_result",
          "data": {
            "text/plain": [
              "['This',\n",
              " 'is',\n",
              " 'an',\n",
              " 'example',\n",
              " 'sentence',\n",
              " 'Lets',\n",
              " 'see',\n",
              " 'if',\n",
              " 'we',\n",
              " 'can',\n",
              " 'find',\n",
              " 'some',\n",
              " 'letters']"
            ]
          },
          "metadata": {
            "tags": []
          },
          "execution_count": 28
        }
      ]
    },
    {
      "cell_type": "code",
      "metadata": {
        "id": "xNgyNNahgHqM",
        "colab_type": "code",
        "colab": {
          "base_uri": "https://localhost:8080/",
          "height": 34
        },
        "outputId": "98db69e8-950c-4b5d-ff1c-f6ca8267f3f5"
      },
      "source": [
        "re.findall(test_patterns[3],test_phrase)"
      ],
      "execution_count": 29,
      "outputs": [
        {
          "output_type": "execute_result",
          "data": {
            "text/plain": [
              "['This', 'Lets']"
            ]
          },
          "metadata": {
            "tags": []
          },
          "execution_count": 29
        }
      ]
    },
    {
      "cell_type": "code",
      "metadata": {
        "id": "uJqWmiXNgKAW",
        "colab_type": "code",
        "colab": {}
      },
      "source": [
        ""
      ],
      "execution_count": 0,
      "outputs": []
    }
  ]
}