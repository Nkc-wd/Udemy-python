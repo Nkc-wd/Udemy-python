{
  "nbformat": 4,
  "nbformat_minor": 0,
  "metadata": {
    "colab": {
      "name": "defaultdict_&_OrderedDict.ipynb",
      "provenance": [],
      "authorship_tag": "ABX9TyNfnFJMf7UYk/Wo5EXLN9g4"
    },
    "kernelspec": {
      "name": "python3",
      "display_name": "Python 3"
    }
  },
  "cells": [
    {
      "cell_type": "code",
      "metadata": {
        "id": "9Y4li3WIQE5S",
        "colab_type": "code",
        "colab": {}
      },
      "source": [
        "from collections import defaultdict"
      ],
      "execution_count": 0,
      "outputs": []
    },
    {
      "cell_type": "code",
      "metadata": {
        "id": "9G7xNNk9WZsc",
        "colab_type": "code",
        "colab": {
          "base_uri": "https://localhost:8080/",
          "height": 180
        },
        "outputId": "aa4f2661-29d3-4511-f7f4-406a1ca1c856"
      },
      "source": [
        "d = {}\n",
        "d['one']"
      ],
      "execution_count": 2,
      "outputs": [
        {
          "output_type": "error",
          "ename": "KeyError",
          "evalue": "ignored",
          "traceback": [
            "\u001b[0;31m---------------------------------------------------------------------------\u001b[0m",
            "\u001b[0;31mKeyError\u001b[0m                                  Traceback (most recent call last)",
            "\u001b[0;32m<ipython-input-2-a642d5f31763>\u001b[0m in \u001b[0;36m<module>\u001b[0;34m()\u001b[0m\n\u001b[1;32m      1\u001b[0m \u001b[0md\u001b[0m \u001b[0;34m=\u001b[0m \u001b[0;34m{\u001b[0m\u001b[0;34m}\u001b[0m\u001b[0;34m\u001b[0m\u001b[0;34m\u001b[0m\u001b[0m\n\u001b[0;32m----> 2\u001b[0;31m \u001b[0md\u001b[0m\u001b[0;34m[\u001b[0m\u001b[0;34m'one'\u001b[0m\u001b[0;34m]\u001b[0m\u001b[0;34m\u001b[0m\u001b[0;34m\u001b[0m\u001b[0m\n\u001b[0m",
            "\u001b[0;31mKeyError\u001b[0m: 'one'"
          ]
        }
      ]
    },
    {
      "cell_type": "code",
      "metadata": {
        "id": "nd1aaMVQXLt4",
        "colab_type": "code",
        "colab": {
          "base_uri": "https://localhost:8080/",
          "height": 34
        },
        "outputId": "e3ded3b5-fcf8-41c1-8491-e160416c0b83"
      },
      "source": [
        "d  = defaultdict(object)\n",
        "d['one']\n",
        "for item in d:\n",
        "    print(item)"
      ],
      "execution_count": 3,
      "outputs": [
        {
          "output_type": "stream",
          "text": [
            "one\n"
          ],
          "name": "stdout"
        }
      ]
    },
    {
      "cell_type": "code",
      "metadata": {
        "id": "HEPbLh_RXVJg",
        "colab_type": "code",
        "colab": {
          "base_uri": "https://localhost:8080/",
          "height": 119
        },
        "outputId": "50816733-07c1-46f2-d623-5c3c4e099818"
      },
      "source": [
        "print('Normal dictionary:')\n",
        "\n",
        "d = {}\n",
        "\n",
        "d['a'] = 'A'\n",
        "d['b'] = 'B'\n",
        "d['c'] = 'C'\n",
        "d['d'] = 'D'\n",
        "d['e'] = 'E'\n",
        "\n",
        "for k, v in d.items():\n",
        "    print(k, v)"
      ],
      "execution_count": 4,
      "outputs": [
        {
          "output_type": "stream",
          "text": [
            "Normal dictionary:\n",
            "a A\n",
            "b B\n",
            "c C\n",
            "d D\n",
            "e E\n"
          ],
          "name": "stdout"
        }
      ]
    },
    {
      "cell_type": "code",
      "metadata": {
        "id": "R_BO5-4vXizZ",
        "colab_type": "code",
        "colab": {
          "base_uri": "https://localhost:8080/",
          "height": 119
        },
        "outputId": "c0ac6b10-cd6b-4e1b-af83-43da23165230"
      },
      "source": [
        "from collections import OrderedDict\n",
        "\n",
        "print('OrderedDict:')\n",
        "\n",
        "d = OrderedDict()\n",
        "\n",
        "d['a'] = 'A'\n",
        "d['b'] = 'B'\n",
        "d['c'] = 'C'\n",
        "d['d'] = 'D'\n",
        "d['e'] = 'E'\n",
        "\n",
        "for k, v in d.items():\n",
        "    print(k, v)\n"
      ],
      "execution_count": 5,
      "outputs": [
        {
          "output_type": "stream",
          "text": [
            "OrderedDict:\n",
            "a A\n",
            "b B\n",
            "c C\n",
            "d D\n",
            "e E\n"
          ],
          "name": "stdout"
        }
      ]
    },
    {
      "cell_type": "code",
      "metadata": {
        "id": "BL9C0vMdXm-L",
        "colab_type": "code",
        "colab": {
          "base_uri": "https://localhost:8080/",
          "height": 51
        },
        "outputId": "14f825e6-8b6b-4a58-a597-8c1569aba1fe"
      },
      "source": [
        "print('Dictionaries are equal?')\n",
        "\n",
        "d1 = {}\n",
        "d1['a'] = 'A'\n",
        "d1['b'] = 'B'\n",
        "\n",
        "d2 = {}\n",
        "d2['b'] = 'B'\n",
        "d2['a'] = 'A'\n",
        "\n",
        "print(d1==d2)"
      ],
      "execution_count": 6,
      "outputs": [
        {
          "output_type": "stream",
          "text": [
            "Dictionaries are equal?\n",
            "True\n"
          ],
          "name": "stdout"
        }
      ]
    },
    {
      "cell_type": "code",
      "metadata": {
        "id": "hpKXEX_aXtCt",
        "colab_type": "code",
        "colab": {
          "base_uri": "https://localhost:8080/",
          "height": 51
        },
        "outputId": "45bba09b-faba-423d-fef7-a11ba43c76fb"
      },
      "source": [
        "print('Dictionaries are equal?')\n",
        "\n",
        "d1 = OrderedDict()\n",
        "d1['a'] = 'A'\n",
        "d1['b'] = 'B'\n",
        "\n",
        "\n",
        "d2 = OrderedDict()\n",
        "\n",
        "d2['b'] = 'B'\n",
        "d2['a'] = 'A'\n",
        "\n",
        "print(d1==d2)"
      ],
      "execution_count": 7,
      "outputs": [
        {
          "output_type": "stream",
          "text": [
            "Dictionaries are equal?\n",
            "False\n"
          ],
          "name": "stdout"
        }
      ]
    },
    {
      "cell_type": "code",
      "metadata": {
        "id": "peEqjAgjXx3c",
        "colab_type": "code",
        "colab": {}
      },
      "source": [
        ""
      ],
      "execution_count": 0,
      "outputs": []
    }
  ]
}