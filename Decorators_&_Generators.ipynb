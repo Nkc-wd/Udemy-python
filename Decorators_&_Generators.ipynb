{
  "nbformat": 4,
  "nbformat_minor": 0,
  "metadata": {
    "colab": {
      "name": "Decorators_&_Generators.ipynb",
      "provenance": [],
      "authorship_tag": "ABX9TyMwBmK0P0V4tsrwgG3f6xk2",
      "include_colab_link": true
    },
    "kernelspec": {
      "name": "python3",
      "display_name": "Python 3"
    }
  },
  "cells": [
    {
      "cell_type": "markdown",
      "metadata": {
        "id": "view-in-github",
        "colab_type": "text"
      },
      "source": [
        "<a href=\"https://colab.research.google.com/github/Nkc-wd/Udemy-python/blob/master/Decorators_%26_Generators.ipynb\" target=\"_parent\"><img src=\"https://colab.research.google.com/assets/colab-badge.svg\" alt=\"Open In Colab\"/></a>"
      ]
    },
    {
      "cell_type": "code",
      "metadata": {
        "id": "5W_pvOL3Nc_n",
        "colab_type": "code",
        "colab": {}
      },
      "source": [
        "def another():\n",
        "  print(\"i'm a another function\")"
      ],
      "execution_count": 0,
      "outputs": []
    },
    {
      "cell_type": "code",
      "metadata": {
        "id": "IvIBmGIwM1im",
        "colab_type": "code",
        "colab": {}
      },
      "source": [
        "def new_deco(other_func):\n",
        "  def wrap():\n",
        "    print(\"before\")\n",
        "    other_func()\n",
        "    print(\"after\")\n",
        "  return wrap  "
      ],
      "execution_count": 0,
      "outputs": []
    },
    {
      "cell_type": "code",
      "metadata": {
        "id": "DHkOKsGcNk6d",
        "colab_type": "code",
        "colab": {
          "base_uri": "https://localhost:8080/",
          "height": 68
        },
        "outputId": "31161213-9c40-476d-85b9-41b35ccdd022"
      },
      "source": [
        "myfunc=new_deco(another)\n",
        "myfunc()"
      ],
      "execution_count": 26,
      "outputs": [
        {
          "output_type": "stream",
          "text": [
            "before\n",
            "i'm a another function\n",
            "after\n"
          ],
          "name": "stdout"
        }
      ]
    },
    {
      "cell_type": "code",
      "metadata": {
        "id": "z-pQY2oMORcP",
        "colab_type": "code",
        "colab": {}
      },
      "source": [
        "@new_deco\n",
        "def new_another():\n",
        "  print(\"i'm a new another function\")"
      ],
      "execution_count": 0,
      "outputs": []
    },
    {
      "cell_type": "code",
      "metadata": {
        "id": "2WeRU1SWNoRe",
        "colab_type": "code",
        "colab": {
          "base_uri": "https://localhost:8080/",
          "height": 68
        },
        "outputId": "1a193832-7130-4daf-86e7-96d4e4e1f2cc"
      },
      "source": [
        "new_another()"
      ],
      "execution_count": 30,
      "outputs": [
        {
          "output_type": "stream",
          "text": [
            "before\n",
            "i'm a new another function\n",
            "after\n"
          ],
          "name": "stdout"
        }
      ]
    },
    {
      "cell_type": "code",
      "metadata": {
        "id": "TCoQX2hZOuuO",
        "colab_type": "code",
        "colab": {}
      },
      "source": [
        "def gensquares(N):\n",
        "  for i in range(N):\n",
        "    yield i**2"
      ],
      "execution_count": 0,
      "outputs": []
    },
    {
      "cell_type": "code",
      "metadata": {
        "id": "aL8mYLn9rs2a",
        "colab_type": "code",
        "colab": {
          "base_uri": "https://localhost:8080/",
          "height": 187
        },
        "outputId": "cf0ebb6a-aa7e-44a7-d150-86eeda7241e9"
      },
      "source": [
        "for x in gensquares(10):\n",
        "    print(x)"
      ],
      "execution_count": 32,
      "outputs": [
        {
          "output_type": "stream",
          "text": [
            "0\n",
            "1\n",
            "4\n",
            "9\n",
            "16\n",
            "25\n",
            "36\n",
            "49\n",
            "64\n",
            "81\n"
          ],
          "name": "stdout"
        }
      ]
    },
    {
      "cell_type": "code",
      "metadata": {
        "id": "oqpngf8rr1Yq",
        "colab_type": "code",
        "colab": {}
      },
      "source": [
        "import random\n",
        "def rand_num(low,high,n):\n",
        "  for i in range(n):\n",
        "    yield random.randint(low,high)"
      ],
      "execution_count": 0,
      "outputs": []
    },
    {
      "cell_type": "code",
      "metadata": {
        "id": "gjSybh5LsQSk",
        "colab_type": "code",
        "colab": {
          "base_uri": "https://localhost:8080/",
          "height": 221
        },
        "outputId": "e0f5a810-9f9e-4ea2-f48f-fa830be0a912"
      },
      "source": [
        "for num in rand_num(1,10,12):\n",
        "    print(num)"
      ],
      "execution_count": 34,
      "outputs": [
        {
          "output_type": "stream",
          "text": [
            "10\n",
            "4\n",
            "1\n",
            "10\n",
            "7\n",
            "1\n",
            "10\n",
            "4\n",
            "1\n",
            "8\n",
            "9\n",
            "10\n"
          ],
          "name": "stdout"
        }
      ]
    },
    {
      "cell_type": "code",
      "metadata": {
        "id": "3k8LSf5wsWLk",
        "colab_type": "code",
        "colab": {
          "base_uri": "https://localhost:8080/",
          "height": 34
        },
        "outputId": "26ba9932-5748-4c52-c114-c5fb56e4ccc8"
      },
      "source": [
        "s='hello'\n",
        "new_str=iter(s)\n",
        "print(next(new_str))"
      ],
      "execution_count": 35,
      "outputs": [
        {
          "output_type": "stream",
          "text": [
            "h\n"
          ],
          "name": "stdout"
        }
      ]
    },
    {
      "cell_type": "code",
      "metadata": {
        "id": "8IpCowels6YH",
        "colab_type": "code",
        "colab": {}
      },
      "source": [
        ""
      ],
      "execution_count": 0,
      "outputs": []
    }
  ]
}